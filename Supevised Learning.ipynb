{
 "cells": [
  {
   "cell_type": "code",
   "execution_count": 1,
   "id": "bc20b20a",
   "metadata": {},
   "outputs": [],
   "source": [
    "import numpy as np\n",
    "import pandas as pd"
   ]
  },
  {
   "cell_type": "code",
   "execution_count": 2,
   "id": "e14839b3",
   "metadata": {
    "scrolled": true
   },
   "outputs": [
    {
     "name": "stdout",
     "output_type": "stream",
     "text": [
      "Shape of train : (11982, 2)\n",
      "Shape of test : (2996, 2)\n"
     ]
    }
   ],
   "source": [
    "train = pd.read_csv('train.csv')\n",
    "test = pd.read_csv('test.csv')\n",
    "print(f'Shape of train : {train.shape}')\n",
    "print(f'Shape of test : {test.shape}')"
   ]
  },
  {
   "cell_type": "code",
   "execution_count": 3,
   "id": "0a558c71",
   "metadata": {},
   "outputs": [],
   "source": [
    "#Label target values\n",
    "label = {\n",
    "    'Not Clickbait' : 0,\n",
    "    'Clickbait' : 1\n",
    "}\n",
    "\n",
    "train['Label'] = train['Label'].replace(label)\n",
    "test['Label'] = test['Label'].replace(label)"
   ]
  },
  {
   "cell_type": "markdown",
   "id": "ed4c1cd6",
   "metadata": {},
   "source": [
    "Text Preprocessing"
   ]
  },
  {
   "cell_type": "code",
   "execution_count": 4,
   "id": "acc12d51",
   "metadata": {},
   "outputs": [],
   "source": [
    "import string\n",
    "\n",
    "def preprocess(text):\n",
    "    text = text.lower().translate(str.maketrans('', '', string.punctuation))\n",
    "    return text\n",
    "\n",
    "train['Headline'] = train['Headline'].apply(lambda x : preprocess(x))\n",
    "test['Headline'] = test['Headline'].apply(lambda x : preprocess(x))"
   ]
  },
  {
   "cell_type": "code",
   "execution_count": 5,
   "id": "d1f0de0b",
   "metadata": {},
   "outputs": [
    {
     "data": {
      "text/plain": [
       "(14978,)"
      ]
     },
     "execution_count": 5,
     "metadata": {},
     "output_type": "execute_result"
    }
   ],
   "source": [
    "text = pd.concat([train['Headline'], test['Headline']]).reset_index(drop=True)\n",
    "text.shape"
   ]
  },
  {
   "cell_type": "code",
   "execution_count": 6,
   "id": "1b509062",
   "metadata": {},
   "outputs": [],
   "source": [
    "from sklearn.feature_extraction.text import TfidfVectorizer\n",
    "\n",
    "vectorizer = TfidfVectorizer()\n",
    "vectorizer.fit(text)\n",
    "X_train = vectorizer.transform(train['Headline'])\n",
    "X_test = vectorizer.transform(test['Headline'])"
   ]
  },
  {
   "cell_type": "code",
   "execution_count": 7,
   "id": "fa8a05d8",
   "metadata": {},
   "outputs": [
    {
     "data": {
      "text/html": [
       "<div>\n",
       "<style scoped>\n",
       "    .dataframe tbody tr th:only-of-type {\n",
       "        vertical-align: middle;\n",
       "    }\n",
       "\n",
       "    .dataframe tbody tr th {\n",
       "        vertical-align: top;\n",
       "    }\n",
       "\n",
       "    .dataframe thead th {\n",
       "        text-align: right;\n",
       "    }\n",
       "</style>\n",
       "<table border=\"1\" class=\"dataframe\">\n",
       "  <thead>\n",
       "    <tr style=\"text-align: right;\">\n",
       "      <th></th>\n",
       "      <th>model</th>\n",
       "      <th>score</th>\n",
       "    </tr>\n",
       "  </thead>\n",
       "  <tbody>\n",
       "    <tr>\n",
       "      <th>0</th>\n",
       "      <td>svm</td>\n",
       "      <td>0.768024</td>\n",
       "    </tr>\n",
       "    <tr>\n",
       "      <th>1</th>\n",
       "      <td>bnb</td>\n",
       "      <td>0.757677</td>\n",
       "    </tr>\n",
       "  </tbody>\n",
       "</table>\n",
       "</div>"
      ],
      "text/plain": [
       "  model     score\n",
       "0   svm  0.768024\n",
       "1   bnb  0.757677"
      ]
     },
     "execution_count": 7,
     "metadata": {},
     "output_type": "execute_result"
    }
   ],
   "source": [
    "from sklearn.svm import SVC\n",
    "from sklearn.naive_bayes import BernoulliNB\n",
    "from sklearn.metrics import accuracy_score\n",
    "\n",
    "models = {\n",
    "    'svm' : SVC(C=100, gamma=1, probability=True),\n",
    "    'bnb' : BernoulliNB(binarize=0.01),\n",
    "}\n",
    "\n",
    "def trainModel(model, X_train, y_train, X_test, y_test):\n",
    "    modelScores = {}\n",
    "    for name, model in models.items():\n",
    "        model.fit(X_train, y_train)\n",
    "        pred = model.predict(X_test)\n",
    "        modelScores[name] = accuracy_score(y_test, pred)\n",
    "    return modelScores\n",
    "modelScores = trainModel(model=models, X_train=X_train, y_train=train['Label'], X_test=X_test, y_test=test['Label'])\n",
    "\n",
    "scores = pd.DataFrame(modelScores.items(), columns=['model', 'score'])\n",
    "scores"
   ]
  },
  {
   "cell_type": "code",
   "execution_count": null,
   "id": "24aed646",
   "metadata": {},
   "outputs": [],
   "source": []
  }
 ],
 "metadata": {
  "kernelspec": {
   "display_name": "Python 3",
   "language": "python",
   "name": "python3"
  },
  "language_info": {
   "codemirror_mode": {
    "name": "ipython",
    "version": 3
   },
   "file_extension": ".py",
   "mimetype": "text/x-python",
   "name": "python",
   "nbconvert_exporter": "python",
   "pygments_lexer": "ipython3",
   "version": "3.9.5"
  }
 },
 "nbformat": 4,
 "nbformat_minor": 5
}
